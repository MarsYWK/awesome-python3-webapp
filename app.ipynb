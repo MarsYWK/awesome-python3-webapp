{
 "cells": [
  {
   "cell_type": "code",
   "execution_count": 1,
   "metadata": {
    "collapsed": true
   },
   "outputs": [],
   "source": [
    "import logging;\n",
    "\n",
    "logging.basicConfig(level=logging.INFO)\n",
    "\n",
    "import asyncio, os, json, time\n",
    "from datetime import datetime\n",
    "\n",
    "from aiohttp import web\n"
   ]
  },
  {
   "cell_type": "code",
   "execution_count": null,
   "metadata": {},
   "outputs": [
    {
     "name": "stderr",
     "output_type": "stream",
     "text": [
      "INFO:root:server started at http://127.0.0.1:9000...\n",
      "ERROR:aiohttp.server:Error handling request\n",
      "Traceback (most recent call last):\n",
      "  File \"/home/kevin/anaconda3/lib/python3.6/site-packages/aiohttp/web_protocol.py\", line 410, in start\n",
      "    resp = yield from self._request_handler(request)\n",
      "  File \"/home/kevin/anaconda3/lib/python3.6/site-packages/aiohttp/web.py\", line 325, in _handle\n",
      "    resp = yield from handler(request)\n",
      "  File \"/home/kevin/anaconda3/lib/python3.6/site-packages/aiohttp/web_middlewares.py\", line 93, in impl\n",
      "    return (yield from handler(request))\n",
      "  File \"/home/kevin/anaconda3/lib/python3.6/site-packages/aiohttp/web_urldispatcher.py\", line 140, in handler_wrapper\n",
      "    result = old_handler(*args, **kwargs)\n",
      "  File \"<ipython-input-2-004e7a19511a>\", line 2, in index\n",
      "    return web.Response('<h1>Awesome</h1>')\n",
      "TypeError: __init__() takes 1 positional argument but 2 were given\n",
      "INFO:aiohttp.access:127.0.0.1 [18/Jan/2018:09:50:17 +0000] \"GET / HTTP/1.1\" 500 330 \"-\" \"Mozilla/5.0 (X11; Ubuntu; Linux x86_64; rv:57.0) Gecko/20100101 Firefox/57.0\"\n"
     ]
    }
   ],
   "source": [
    "def index(request):\n",
    "    return web.Response(body='<h1>Awesome</h1>')\n",
    "\n",
    "@asyncio.coroutine\n",
    "def init(loop):\n",
    "    app = web.Application(loop=loop)\n",
    "    app.router.add_route('GET', '/', index)\n",
    "    srv = yield from loop.create_server(app.make_handler(), '127.0.0.1', 9000)\n",
    "    logging.info('server started at http://127.0.0.1:9000...')\n",
    "    return srv\n",
    "\n",
    "loop = asyncio.get_event_loop()\n",
    "loop.run_until_complete(init(loop))\n",
    "loop.run_forever()"
   ]
  },
  {
   "cell_type": "code",
   "execution_count": null,
   "metadata": {
    "collapsed": true
   },
   "outputs": [],
   "source": []
  }
 ],
 "metadata": {
  "kernelspec": {
   "display_name": "Python 3",
   "language": "python",
   "name": "python3"
  },
  "language_info": {
   "codemirror_mode": {
    "name": "ipython",
    "version": 3
   },
   "file_extension": ".py",
   "mimetype": "text/x-python",
   "name": "python",
   "nbconvert_exporter": "python",
   "pygments_lexer": "ipython3",
   "version": "3.6.3"
  }
 },
 "nbformat": 4,
 "nbformat_minor": 2
}
